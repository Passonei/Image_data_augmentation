{
  "cells": [
    {
      "cell_type": "code",
      "execution_count": 1,
      "metadata": {
        "colab": {
          "base_uri": "https://localhost:8080/"
        },
        "id": "yJ-2eEClJJkg",
        "outputId": "90fa97ee-f372-400a-d213-3764d0ab17d9"
      },
      "outputs": [
        {
          "output_type": "stream",
          "name": "stdout",
          "text": [
            "Mounted at /content/drive\n"
          ]
        }
      ],
      "source": [
        "import numpy as np\n",
        "import tensorflow as tf\n",
        "from tensorflow import keras\n",
        "import time \n",
        "import cv2\n",
        "from sklearn.metrics import confusion_matrix, precision_score, recall_score, accuracy_score, balanced_accuracy_score\n",
        "\n",
        "from google.colab import drive, files\n",
        "drive.mount('/content/drive')"
      ]
    },
    {
      "cell_type": "code",
      "execution_count": 2,
      "metadata": {
        "id": "uAw1YHILl6oS",
        "colab": {
          "base_uri": "https://localhost:8080/"
        },
        "outputId": "4de7cfcd-c3a6-4bd3-f2e1-2e44f33a9a45"
      },
      "outputs": [
        {
          "output_type": "stream",
          "name": "stdout",
          "text": [
            "Looking in indexes: https://pypi.org/simple, https://us-python.pkg.dev/colab-wheels/public/simple/\n",
            "Collecting wandb\n",
            "  Downloading wandb-0.15.2-py3-none-any.whl (2.0 MB)\n",
            "\u001b[2K     \u001b[90m━━━━━━━━━━━━━━━━━━━━━━━━━━━━━━━━━━━━━━━━\u001b[0m \u001b[32m2.0/2.0 MB\u001b[0m \u001b[31m23.3 MB/s\u001b[0m eta \u001b[36m0:00:00\u001b[0m\n",
            "\u001b[?25hRequirement already satisfied: Click!=8.0.0,>=7.0 in /usr/local/lib/python3.10/dist-packages (from wandb) (8.1.3)\n",
            "Collecting GitPython!=3.1.29,>=1.0.0 (from wandb)\n",
            "  Downloading GitPython-3.1.31-py3-none-any.whl (184 kB)\n",
            "\u001b[2K     \u001b[90m━━━━━━━━━━━━━━━━━━━━━━━━━━━━━━━━━━━━━━\u001b[0m \u001b[32m184.3/184.3 kB\u001b[0m \u001b[31m23.4 MB/s\u001b[0m eta \u001b[36m0:00:00\u001b[0m\n",
            "\u001b[?25hRequirement already satisfied: requests<3,>=2.0.0 in /usr/local/lib/python3.10/dist-packages (from wandb) (2.27.1)\n",
            "Requirement already satisfied: psutil>=5.0.0 in /usr/local/lib/python3.10/dist-packages (from wandb) (5.9.5)\n",
            "Collecting sentry-sdk>=1.0.0 (from wandb)\n",
            "  Downloading sentry_sdk-1.23.0-py2.py3-none-any.whl (205 kB)\n",
            "\u001b[2K     \u001b[90m━━━━━━━━━━━━━━━━━━━━━━━━━━━━━━━━━━━━━━\u001b[0m \u001b[32m205.1/205.1 kB\u001b[0m \u001b[31m24.4 MB/s\u001b[0m eta \u001b[36m0:00:00\u001b[0m\n",
            "\u001b[?25hCollecting docker-pycreds>=0.4.0 (from wandb)\n",
            "  Downloading docker_pycreds-0.4.0-py2.py3-none-any.whl (9.0 kB)\n",
            "Requirement already satisfied: PyYAML in /usr/local/lib/python3.10/dist-packages (from wandb) (6.0)\n",
            "Collecting pathtools (from wandb)\n",
            "  Downloading pathtools-0.1.2.tar.gz (11 kB)\n",
            "  Preparing metadata (setup.py) ... \u001b[?25l\u001b[?25hdone\n",
            "Collecting setproctitle (from wandb)\n",
            "  Downloading setproctitle-1.3.2-cp310-cp310-manylinux_2_5_x86_64.manylinux1_x86_64.manylinux_2_17_x86_64.manylinux2014_x86_64.whl (30 kB)\n",
            "Requirement already satisfied: setuptools in /usr/local/lib/python3.10/dist-packages (from wandb) (67.7.2)\n",
            "Requirement already satisfied: appdirs>=1.4.3 in /usr/local/lib/python3.10/dist-packages (from wandb) (1.4.4)\n",
            "Requirement already satisfied: protobuf!=4.21.0,<5,>=3.19.0 in /usr/local/lib/python3.10/dist-packages (from wandb) (3.20.3)\n",
            "Requirement already satisfied: six>=1.4.0 in /usr/local/lib/python3.10/dist-packages (from docker-pycreds>=0.4.0->wandb) (1.16.0)\n",
            "Collecting gitdb<5,>=4.0.1 (from GitPython!=3.1.29,>=1.0.0->wandb)\n",
            "  Downloading gitdb-4.0.10-py3-none-any.whl (62 kB)\n",
            "\u001b[2K     \u001b[90m━━━━━━━━━━━━━━━━━━━━━━━━━━━━━━━━━━━━━━━━\u001b[0m \u001b[32m62.7/62.7 kB\u001b[0m \u001b[31m7.8 MB/s\u001b[0m eta \u001b[36m0:00:00\u001b[0m\n",
            "\u001b[?25hRequirement already satisfied: urllib3<1.27,>=1.21.1 in /usr/local/lib/python3.10/dist-packages (from requests<3,>=2.0.0->wandb) (1.26.15)\n",
            "Requirement already satisfied: certifi>=2017.4.17 in /usr/local/lib/python3.10/dist-packages (from requests<3,>=2.0.0->wandb) (2022.12.7)\n",
            "Requirement already satisfied: charset-normalizer~=2.0.0 in /usr/local/lib/python3.10/dist-packages (from requests<3,>=2.0.0->wandb) (2.0.12)\n",
            "Requirement already satisfied: idna<4,>=2.5 in /usr/local/lib/python3.10/dist-packages (from requests<3,>=2.0.0->wandb) (3.4)\n",
            "Collecting smmap<6,>=3.0.1 (from gitdb<5,>=4.0.1->GitPython!=3.1.29,>=1.0.0->wandb)\n",
            "  Downloading smmap-5.0.0-py3-none-any.whl (24 kB)\n",
            "Building wheels for collected packages: pathtools\n",
            "  Building wheel for pathtools (setup.py) ... \u001b[?25l\u001b[?25hdone\n",
            "  Created wheel for pathtools: filename=pathtools-0.1.2-py3-none-any.whl size=8791 sha256=9b97d09a190d077cb8f1abefb62e42b6013032fae5f67276b89454587976a260\n",
            "  Stored in directory: /root/.cache/pip/wheels/e7/f3/22/152153d6eb222ee7a56ff8617d80ee5207207a8c00a7aab794\n",
            "Successfully built pathtools\n",
            "Installing collected packages: pathtools, smmap, setproctitle, sentry-sdk, docker-pycreds, gitdb, GitPython, wandb\n",
            "Successfully installed GitPython-3.1.31 docker-pycreds-0.4.0 gitdb-4.0.10 pathtools-0.1.2 sentry-sdk-1.23.0 setproctitle-1.3.2 smmap-5.0.0 wandb-0.15.2\n",
            "\u001b[34m\u001b[1mwandb\u001b[0m: Logging into wandb.ai. (Learn how to deploy a W&B server locally: https://wandb.me/wandb-server)\n",
            "\u001b[34m\u001b[1mwandb\u001b[0m: You can find your API key in your browser here: https://wandb.ai/authorize\n",
            "\u001b[34m\u001b[1mwandb\u001b[0m: Paste an API key from your profile and hit enter, or press ctrl+c to quit: \n",
            "\u001b[34m\u001b[1mwandb\u001b[0m: Appending key for api.wandb.ai to your netrc file: /root/.netrc\n"
          ]
        }
      ],
      "source": [
        "!pip install wandb\n",
        "!wandb login\n",
        "import wandb\n",
        "from wandb.keras import WandbMetricsLogger, WandbModelCheckpoint"
      ]
    },
    {
      "cell_type": "code",
      "execution_count": 3,
      "metadata": {
        "id": "jkSvJLDcJ3d2"
      },
      "outputs": [],
      "source": [
        "def resize(input_image, height, width):\n",
        "  input_image = tf.image.resize(input_image, [height, width],\n",
        "                                method=tf.image.ResizeMethod.NEAREST_NEIGHBOR)\n",
        "  return input_image\n",
        "\n",
        "def soft_augmentation(input_image):\n",
        "  # Resizing to 158x158\n",
        "  input_image = resize(input_image, 158, 158)\n",
        "\n",
        "  # Random cropping back to 128x128\n",
        "  input_image = tf.image.random_crop(input_image, size=[128, 128, 3])\n",
        "\n",
        "  if tf.random.uniform(()) > 0.5:\n",
        "    # Random mirroring\n",
        "    input_image = cv2.GaussianBlur(input_image.numpy(),(3,3),0) \n",
        "    input_image = tf.image.flip_left_right(input_image)\n",
        "\n",
        "  return input_image"
      ]
    },
    {
      "cell_type": "code",
      "execution_count": 4,
      "metadata": {
        "colab": {
          "base_uri": "https://localhost:8080/",
          "height": 123
        },
        "id": "ffBfDJXTrfWG",
        "outputId": "bf51fbdf-4feb-417d-f599-f7d41cb4bc57"
      },
      "outputs": [
        {
          "output_type": "stream",
          "name": "stderr",
          "text": [
            "\u001b[34m\u001b[1mwandb\u001b[0m: Currently logged in as: \u001b[33mmarekpasson\u001b[0m. Use \u001b[1m`wandb login --relogin`\u001b[0m to force relogin\n"
          ]
        },
        {
          "output_type": "display_data",
          "data": {
            "text/plain": [
              "<IPython.core.display.HTML object>"
            ],
            "text/html": [
              "Tracking run with wandb version 0.15.2"
            ]
          },
          "metadata": {}
        },
        {
          "output_type": "display_data",
          "data": {
            "text/plain": [
              "<IPython.core.display.HTML object>"
            ],
            "text/html": [
              "Run data is saved locally in <code>/content/wandb/run-20230515_161915-g8hf5upq</code>"
            ]
          },
          "metadata": {}
        },
        {
          "output_type": "display_data",
          "data": {
            "text/plain": [
              "<IPython.core.display.HTML object>"
            ],
            "text/html": [
              "Syncing run <strong><a href='https://wandb.ai/marekpasson/test/runs/g8hf5upq' target=\"_blank\">Pix</a></strong> to <a href='https://wandb.ai/marekpasson/test' target=\"_blank\">Weights & Biases</a> (<a href='https://wandb.me/run' target=\"_blank\">docs</a>)<br/>"
            ]
          },
          "metadata": {}
        },
        {
          "output_type": "display_data",
          "data": {
            "text/plain": [
              "<IPython.core.display.HTML object>"
            ],
            "text/html": [
              " View project at <a href='https://wandb.ai/marekpasson/test' target=\"_blank\">https://wandb.ai/marekpasson/test</a>"
            ]
          },
          "metadata": {}
        },
        {
          "output_type": "display_data",
          "data": {
            "text/plain": [
              "<IPython.core.display.HTML object>"
            ],
            "text/html": [
              " View run at <a href='https://wandb.ai/marekpasson/test/runs/g8hf5upq' target=\"_blank\">https://wandb.ai/marekpasson/test/runs/g8hf5upq</a>"
            ]
          },
          "metadata": {}
        }
      ],
      "source": [
        "wandb.init(\n",
        "    # set the wandb project where this run will be logged\n",
        "    project=\"test\",\n",
        "    name = 'Pix',\n",
        "    config={\n",
        "        \"model\":'ResNet50',\n",
        "        \"include_top\":False,\n",
        "        \"weights\":None,\n",
        "        \"input_shape\":(128,128,3),\n",
        "        \"pooling\":\"avg\",\n",
        "        \"num_outputs\": 2,\n",
        "        \"activation\": \"softmax\",\n",
        "        \"optimizer\": 'adam',\n",
        "        \"loss\": \"categorical_crossentropy\",\n",
        "        \"metric\": [\"Accuracy\"],\n",
        "        \"epochs\": 50,\n",
        "        \"batch_size\": 16,\n",
        "        \"num_models\":10,\n",
        "    }\n",
        ")\n",
        "\n",
        "config = wandb.config"
      ]
    },
    {
      "cell_type": "code",
      "execution_count": 5,
      "metadata": {
        "id": "NVZ-k9vVJ6z5"
      },
      "outputs": [],
      "source": [
        "# Load base model for adaboost (ResNet50)\n",
        "base_model = tf.keras.applications.resnet50.ResNet50(\n",
        "    include_top=config.include_top, \n",
        "    weights=config.weights,\n",
        "    input_shape=config.input_shape,\n",
        "    pooling=config.pooling,\n",
        ")\n",
        "\n",
        "model_resnet = keras.Sequential()\n",
        "model_resnet.add(base_model)\n",
        "model_resnet.add(keras.layers.Dense(units=config.num_outputs, activation=config.activation))"
      ]
    },
    {
      "cell_type": "markdown",
      "source": [
        "# Data prepare"
      ],
      "metadata": {
        "id": "e71tpSOiSSxv"
      }
    },
    {
      "cell_type": "code",
      "execution_count": 11,
      "metadata": {
        "id": "i7UhSQzfJOe4"
      },
      "outputs": [],
      "source": [
        "test_normal = tf.data.Dataset.load(\"/content/drive/MyDrive/Dane/IDA/test_normal_classification\")\n",
        "test_patology = tf.data.Dataset.load(\"/content/drive/MyDrive/Dane/IDA/test_patology_classification\")\n",
        "\n",
        "train_normal = tf.data.Dataset.load(\"/content/drive/MyDrive/Dane/IDA/image_normal_train\")\n",
        "train_patology = tf.data.Dataset.load(\"/content/drive/MyDrive/Dane/IDA/image_patology_train\")\n",
        "\n",
        "generated_pix = tf.data.Dataset.load(\"/content/drive/MyDrive/Dane/IDA/generated_pix2pix\")\n",
        "generated_paste = tf.data.Dataset.load(\"/content/drive/MyDrive/Dane/IDA/generated_paste\")"
      ]
    },
    {
      "cell_type": "code",
      "execution_count": 12,
      "metadata": {
        "id": "yyM99OtlJQ5v"
      },
      "outputs": [],
      "source": [
        "def get_patology_label(x):\n",
        "    return np.array([[0,1]])\n",
        "\n",
        "def get_normal_label(x):\n",
        "    return np.array([[1,0]])\n",
        "\n",
        "test_normal = test_normal.map(lambda image: (image, tf.py_function(get_normal_label,[image],tf.int8)))\n",
        "test_patology = test_patology.map(lambda image: (image, tf.py_function(get_patology_label,[image],tf.int8))).skip(50)\n",
        "\n",
        "train_normal = train_normal.map(lambda image: (image, tf.py_function(get_normal_label,[image],tf.int8)))\n",
        "train_patology = train_patology.map(lambda image: (image, tf.py_function(get_patology_label,[image],tf.int8)))\n",
        "\n",
        "generated_pix = generated_pix.map(lambda image: (image, tf.py_function(get_patology_label,[image],tf.int8)))\n",
        "generated_paste = generated_paste.map(lambda image: (image, tf.py_function(get_patology_label,[image],tf.int8)))\n",
        "\n",
        "test_data = test_normal.concatenate(test_patology)\n",
        "\n",
        "valid_data = train_normal.take(20).concatenate(train_patology.take(3))\n",
        "train_data = train_normal.skip(20).concatenate(train_patology.skip(3)).shuffle(150)\n",
        "\n",
        "merged_valid = train_normal.take(10).concatenate(train_patology)\n",
        "merged_data_pix = train_normal.skip(10).concatenate(generated_pix).shuffle(170)\n",
        "merged_data_paste = train_normal.skip(10).concatenate(generated_paste).shuffle(170)\n",
        "\n",
        "#soft augmentation\n",
        "train_patology_augmented = train_patology.repeat(8)\n",
        "train_data_augmented = train_normal.skip(10).concatenate(train_patology_augmented).repeat(3).map(lambda image, label: (tf.py_function(soft_augmentation,[image],tf.float32),label)).shuffle(500)\n",
        "valid_data_augmented = train_normal.take(10).concatenate(train_patology)\n",
        "\n",
        "merged_data_pix_augmented = merged_data_pix.repeat(3).map(lambda image, label: (tf.py_function(soft_augmentation,[image],tf.float32),label))\n",
        "merged_data_paste_augmented = merged_data_paste.repeat(3).map(lambda image, label: (tf.py_function(soft_augmentation,[image],tf.float32),label))\n",
        "\n",
        "test_data = test_data.map(lambda image, label: (image, tf.reshape(label, (2,))))\n",
        "valid_data = valid_data.map(lambda image, label: (image, tf.reshape(label, (2,))))\n",
        "train_data = train_data.map(lambda image, label: (image, tf.reshape(label, (2,))))\n",
        "train_data_augmented = train_data_augmented.map(lambda image, label: (image, tf.reshape(label, (2,))))\n",
        "valid_data_augmented = valid_data_augmented.map(lambda image, label: (image, tf.reshape(label, (2,))))\n",
        "merged_valid = merged_valid.map(lambda image, label: (image, tf.reshape(label, (2,))))\n",
        "merged_data_pix = merged_data_pix.map(lambda image, label: (image, tf.reshape(label, (2,))))\n",
        "merged_data_paste = merged_data_paste.map(lambda image, label: (image, tf.reshape(label, (2,))))\n",
        "merged_data_pix_augmented = merged_data_pix_augmented.map(lambda image, label: (image, tf.reshape(label, (2,))))\n",
        "merged_data_paste_augmented = merged_data_paste_augmented.map(lambda image, label: (image, tf.reshape(label, (2,))))"
      ]
    },
    {
      "cell_type": "code",
      "execution_count": 13,
      "metadata": {
        "id": "frN1NSCVJhCN"
      },
      "outputs": [],
      "source": [
        "datasets = {\n",
        "            'Base_data':[train_data, valid_data], \n",
        "            'BaseSoft_data':[train_data_augmented, valid_data_augmented], \n",
        "            'Paste_data':[merged_data_paste, merged_valid], \n",
        "            'PasteSoft_data':[merged_data_paste_augmented, merged_valid], \n",
        "            'Pix_data':[merged_data_pix, merged_valid], \n",
        "            'PixSoft_data':[merged_data_pix_augmented, merged_valid]\n",
        "            }"
      ]
    },
    {
      "cell_type": "markdown",
      "metadata": {
        "id": "A3Jc6ZH_MgOA"
      },
      "source": [
        "# Adaboost\n"
      ]
    },
    {
      "cell_type": "code",
      "source": [
        "def compute_metrics(y_pred):\n",
        "    y_pred_labels = np.argmax(y_pred, axis=1)\n",
        "\n",
        "    # Convert class probabilities to class labels\n",
        "    y_true_labels = [y.numpy().argmax(axis=0) for _, y in test_data]\n",
        "    y_true = [y for _,y in test_data]\n",
        "    # Evaluate boosted model on test set\n",
        "    test_loss = tf.keras.losses.categorical_crossentropy(y_true, y_pred).numpy().mean()\n",
        "    test_acc = np.mean(y_pred_labels == y_true_labels)\n",
        "\n",
        "    precision = precision_score(y_true_labels, y_pred_labels)\n",
        "    recall = recall_score(y_true_labels, y_pred_labels)\n",
        "    balanced_acc = balanced_accuracy_score(y_true_labels, y_pred_labels)\n",
        "\n",
        "    print(\" Test\")\n",
        "    print(f' loss: {test_loss}, accuracy: {test_acc}')\n",
        "    print(confusion_matrix(y_true_labels, y_pred_labels))\n",
        "    print(f'Accuracy {test_acc}, Precision: {precision}, Recall: {recall}, Balanced accuracy: {balanced_acc}\\n')\n",
        "    return test_acc, precision, recall, balanced_acc\n",
        "\n",
        "def base_model_builder():\n",
        "    classifier = keras.models.clone_model(model_resnet)\n",
        "    classifier.compile(optimizer=config.optimizer, \n",
        "                            loss=config.loss,\n",
        "                            metrics=config.metric)\n",
        "    return classifier\n",
        "\n",
        "class Adaboost():\n",
        "    def __init__(self, n_estimators, base_model_fn, epochs, batch_size, monitor=False):\n",
        "        self.n_estimators = n_estimators\n",
        "        self.base_model_fn = base_model_fn\n",
        "        self.epochs = epochs\n",
        "        self.batch_size = batch_size\n",
        "        self.monitor = monitor\n",
        "        self.models = []\n",
        "        self.alphas = []\n",
        "        \n",
        "    def fit(self, train_data, valid_data):\n",
        "        self.N_train = train_data.__len__().numpy()\n",
        "        weights_train = np.ones(self.N_train) / self.N_train\n",
        "        N_valid = valid_data.__len__().numpy()\n",
        "        weights_valid = np.ones(N_valid) / N_valid\n",
        "\n",
        "        X_train = train_data.map(lambda x,y: x).batch(1)\n",
        "        y_train = [y for x,y in train_data]\n",
        "\n",
        "        X_valid = valid_data.map(lambda x,y: x).batch(1)\n",
        "        y_valid = [y for x,y in valid_data]\n",
        "\n",
        "        for estimator in range(self.n_estimators):\n",
        "            base_estimator = self.base_model_fn()\n",
        "            base_estimator = self.train_estimator(base_estimator, train_data, valid_data, weights_train)\n",
        "\n",
        "            y_pred_train = base_estimator.predict(X_train, verbose=0)\n",
        "            errors_train = [int(y_pred_train[i].argmax(axis=0) != y_train[i].numpy().argmax(axis=0)) for i in range(self.N_train)]\n",
        "\n",
        "            y_pred_valid = base_estimator.predict(X_valid, verbose=0)\n",
        "            errors_valid = [int(y_pred_valid[i].argmax(axis=0) != y_valid[i].numpy().argmax(axis=0)) for i in range(N_valid)]\n",
        "            \n",
        "            # updating weights of model\n",
        "            err_valid = np.dot(weights_valid, errors_valid)\n",
        "            if err_valid==0:\n",
        "                alpha = 1.5\n",
        "                if len(self.alphas)>4:\n",
        "                    self.alphas.append(alpha)\n",
        "                    self.models.append(base_estimator)\n",
        "                    break\n",
        "            else:\n",
        "                alpha = 0.5 * np.log((1 - err_valid) / err_valid)\n",
        "            self.alphas.append(alpha)\n",
        "\n",
        "            # updating the sample weights\n",
        "            weights_train /= np.sum(weights_train)\n",
        "            weights_valid /= np.sum(weights_train)\n",
        "            self.models.append(base_estimator)\n",
        "\n",
        "            # evaluating the model\n",
        "            evaluate_train = base_estimator.evaluate(train_data.batch(1),verbose=0)\n",
        "            evaluate_valid = base_estimator.evaluate(valid_data.batch(1),verbose=0)\n",
        "            print(f\"Model {estimator+1}/{self.n_estimators}\")\n",
        "            print(\" Train\")\n",
        "            print(f' loss: {evaluate_train[0]}, accuracy: {evaluate_train[1]}')\n",
        "            print(\" Valid\")\n",
        "            print(f' loss: {evaluate_valid[0]}, accuracy: {evaluate_valid[1]}')\n",
        "            evaluate_test = base_estimator.evaluate(test_data.batch(1),verbose=0)\n",
        "            print(\" Test\")\n",
        "            print(f' loss: {evaluate_test[0]}, accuracy: {evaluate_test[1]}')\n",
        "            print(\" Ensemble test\")\n",
        "            y_pred = self.predict(test_data)\n",
        "            compute_metrics(y_pred)\n",
        "            \n",
        "            if self.monitor==True:\n",
        "                y_pred_labels = np.argmax(y_pred, axis=1)\n",
        "                y_true_labels = [y.numpy().argmax(axis=0) for _, y in test_data]\n",
        "                y_true = [y for _,y in test_data]\n",
        "                test_loss = tf.keras.losses.categorical_crossentropy(y_true, y_pred).numpy().mean()\n",
        "                test_acc = np.mean(y_pred_labels == y_true_labels)\n",
        "                wandb.log({'ensemble_loss': test_loss, 'ensemble_accuracy': test_acc})\n",
        "\n",
        "\n",
        "    def train_estimator(self, model, train_data, valid_data, weights):\n",
        "        indices = np.arange(self.N_train)\n",
        "        for epoch in range(self.epochs):\n",
        "            i=0\n",
        "            for x,y in train_data.batch(self.batch_size):\n",
        "                batch_indices = indices[i:i+self.batch_size]\n",
        "                X_batch, y_batch, w_batch = x, y, weights[batch_indices]\n",
        "                i+=self.batch_size\n",
        "                model.train_on_batch(X_batch, y_batch, sample_weight=w_batch)\n",
        "                \n",
        "            if self.monitor==True:\n",
        "                loss, acc = model.evaluate(train_data.batch(self.batch_size),verbose=0)\n",
        "                wandb.log({'loss': loss, 'accuracy': acc})\n",
        "                val_loss, val_acc = model.evaluate(valid_data.batch(self.batch_size),verbose=0)\n",
        "                wandb.log({'val_loss': val_loss, 'val_accuracy': val_acc})\n",
        "        return model\n",
        "\n",
        "    def predict(self, data):\n",
        "        N = data.__len__().numpy()\n",
        "        X_data = data.map(lambda x,y: x).batch(1)\n",
        "        y_pred = np.zeros((N, 2))\n",
        "\n",
        "        for i, model in enumerate(self.models):\n",
        "            y_pred += self.alphas[i] * model.predict(X_data, verbose=0)\n",
        "\n",
        "        return y_pred\n"
      ],
      "metadata": {
        "id": "rArWvfLvXmjj"
      },
      "execution_count": 14,
      "outputs": []
    },
    {
      "cell_type": "code",
      "source": [
        "adaboost = Adaboost(10, base_model_builder, epochs=50, batch_size=config.batch_size, monitor=True)\n",
        "data = datasets['PixSoft_data']\n",
        "adaboost.fit(data[0], data[1])"
      ],
      "metadata": {
        "colab": {
          "base_uri": "https://localhost:8080/"
        },
        "id": "orLGy7smXv7-",
        "outputId": "7064ca79-6bca-4d7a-8737-03e973d96eab"
      },
      "execution_count": 15,
      "outputs": [
        {
          "output_type": "stream",
          "name": "stdout",
          "text": [
            "Model 1/10\n",
            " Train\n",
            " loss: 0.04631476104259491, accuracy: 0.9745097756385803\n",
            " Valid\n",
            " loss: 0.7313240170478821, accuracy: 0.8500000238418579\n",
            " Test\n",
            " loss: 1.4020709991455078, accuracy: 0.8367347121238708\n",
            " Ensemble test\n",
            " Test\n",
            " loss: 1.3848306463158329, accuracy: 0.8367346938775511\n",
            "[[ 7  1]\n",
            " [ 7 34]]\n",
            "Accuracy 0.8367346938775511, Precision: 0.9714285714285714, Recall: 0.8292682926829268, Balanced accuracy: 0.8521341463414633\n",
            "\n",
            "Model 2/10\n",
            " Train\n",
            " loss: 0.042452000081539154, accuracy: 0.9823529124259949\n",
            " Valid\n",
            " loss: 0.156570702791214, accuracy: 0.8999999761581421\n",
            " Test\n",
            " loss: 0.4029144048690796, accuracy: 0.8571428656578064\n",
            " Ensemble test\n",
            " Test\n",
            " loss: 0.4555032386901087, accuracy: 0.8571428571428571\n",
            "[[ 7  1]\n",
            " [ 6 35]]\n",
            "Accuracy 0.8571428571428571, Precision: 0.9722222222222222, Recall: 0.8536585365853658, Balanced accuracy: 0.8643292682926829\n",
            "\n",
            "Model 3/10\n",
            " Train\n",
            " loss: 0.08119933307170868, accuracy: 0.9647058844566345\n",
            " Valid\n",
            " loss: 0.7740867137908936, accuracy: 0.75\n",
            " Test\n",
            " loss: 0.7124300003051758, accuracy: 0.5918367505073547\n",
            " Ensemble test\n",
            " Test\n",
            " loss: 0.4087835627635094, accuracy: 0.8571428571428571\n",
            "[[ 7  1]\n",
            " [ 6 35]]\n",
            "Accuracy 0.8571428571428571, Precision: 0.9722222222222222, Recall: 0.8536585365853658, Balanced accuracy: 0.8643292682926829\n",
            "\n",
            "Model 4/10\n",
            " Train\n",
            " loss: 0.07458779215812683, accuracy: 0.9627450704574585\n",
            " Valid\n",
            " loss: 0.14019568264484406, accuracy: 0.949999988079071\n",
            " Test\n",
            " loss: 0.4777958393096924, accuracy: 0.7551020383834839\n",
            " Ensemble test\n",
            " Test\n",
            " loss: 0.3859922177129297, accuracy: 0.8571428571428571\n",
            "[[ 8  0]\n",
            " [ 7 34]]\n",
            "Accuracy 0.8571428571428571, Precision: 1.0, Recall: 0.8292682926829268, Balanced accuracy: 0.9146341463414633\n",
            "\n",
            "Model 5/10\n",
            " Train\n",
            " loss: 4.128903865814209, accuracy: 0.7058823704719543\n",
            " Valid\n",
            " loss: 5.865291118621826, accuracy: 0.6499999761581421\n",
            " Test\n",
            " loss: 1.7067947387695312, accuracy: 0.8163265585899353\n",
            " Ensemble test\n",
            " Test\n",
            " loss: 0.3282218797466231, accuracy: 0.8571428571428571\n",
            "[[ 8  0]\n",
            " [ 7 34]]\n",
            "Accuracy 0.8571428571428571, Precision: 1.0, Recall: 0.8292682926829268, Balanced accuracy: 0.9146341463414633\n",
            "\n",
            "Model 6/10\n",
            " Train\n",
            " loss: 0.083751380443573, accuracy: 0.9666666388511658\n",
            " Valid\n",
            " loss: 0.2374154031276703, accuracy: 0.949999988079071\n",
            " Test\n",
            " loss: 0.12046044319868088, accuracy: 0.9591836929321289\n",
            " Ensemble test\n",
            " Test\n",
            " loss: 0.25349732669719144, accuracy: 0.8979591836734694\n",
            "[[ 8  0]\n",
            " [ 5 36]]\n",
            "Accuracy 0.8979591836734694, Precision: 1.0, Recall: 0.8780487804878049, Balanced accuracy: 0.9390243902439024\n",
            "\n",
            "Model 7/10\n",
            " Train\n",
            " loss: 0.562545120716095, accuracy: 0.8803921341896057\n",
            " Valid\n",
            " loss: 0.2528020739555359, accuracy: 0.8999999761581421\n",
            " Test\n",
            " loss: 0.9751940369606018, accuracy: 0.5918367505073547\n",
            " Ensemble test\n",
            " Test\n",
            " loss: 0.3082451476300242, accuracy: 0.8979591836734694\n",
            "[[ 8  0]\n",
            " [ 5 36]]\n",
            "Accuracy 0.8979591836734694, Precision: 1.0, Recall: 0.8780487804878049, Balanced accuracy: 0.9390243902439024\n",
            "\n",
            "Model 8/10\n",
            " Train\n",
            " loss: 0.021082907915115356, accuracy: 0.9882352948188782\n",
            " Valid\n",
            " loss: 0.204385906457901, accuracy: 0.8500000238418579\n",
            " Test\n",
            " loss: 0.7884564995765686, accuracy: 0.7142857313156128\n",
            " Ensemble test\n",
            " Test\n",
            " loss: 0.323512968817085, accuracy: 0.8979591836734694\n",
            "[[ 8  0]\n",
            " [ 5 36]]\n",
            "Accuracy 0.8979591836734694, Precision: 1.0, Recall: 0.8780487804878049, Balanced accuracy: 0.9390243902439024\n",
            "\n",
            "Model 9/10\n",
            " Train\n",
            " loss: 1.4836887121200562, accuracy: 0.7196078300476074\n",
            " Valid\n",
            " loss: 6.257265567779541, accuracy: 0.550000011920929\n",
            " Test\n",
            " loss: 1.9608221054077148, accuracy: 0.8367347121238708\n",
            " Ensemble test\n",
            " Test\n",
            " loss: 0.3183652548890827, accuracy: 0.8979591836734694\n",
            "[[ 8  0]\n",
            " [ 5 36]]\n",
            "Accuracy 0.8979591836734694, Precision: 1.0, Recall: 0.8780487804878049, Balanced accuracy: 0.9390243902439024\n",
            "\n",
            "Model 10/10\n",
            " Train\n",
            " loss: 0.17267286777496338, accuracy: 0.9352940917015076\n",
            " Valid\n",
            " loss: 0.5004971623420715, accuracy: 0.6000000238418579\n",
            " Test\n",
            " loss: 0.3164246082305908, accuracy: 0.8571428656578064\n",
            " Ensemble test\n",
            " Test\n",
            " loss: 0.314870844153297, accuracy: 0.8979591836734694\n",
            "[[ 8  0]\n",
            " [ 5 36]]\n",
            "Accuracy 0.8979591836734694, Precision: 1.0, Recall: 0.8780487804878049, Balanced accuracy: 0.9390243902439024\n",
            "\n"
          ]
        }
      ]
    },
    {
      "cell_type": "code",
      "source": [
        "print('Final result:\\n')\n",
        "y_pred = adaboost.predict(test_data)\n",
        "accuracy, precision, recall, balanced_acc = compute_metrics(y_pred)"
      ],
      "metadata": {
        "colab": {
          "base_uri": "https://localhost:8080/"
        },
        "id": "TCf7sbQrXwAj",
        "outputId": "d453ea13-2b54-43f1-f5d2-519d2a09dda1"
      },
      "execution_count": 16,
      "outputs": [
        {
          "output_type": "stream",
          "name": "stdout",
          "text": [
            "Final result:\n",
            "\n",
            " Test\n",
            " loss: 0.314870844153297, accuracy: 0.8979591836734694\n",
            "[[ 8  0]\n",
            " [ 5 36]]\n",
            "Accuracy 0.8979591836734694, Precision: 1.0, Recall: 0.8780487804878049, Balanced accuracy: 0.9390243902439024\n",
            "\n"
          ]
        }
      ]
    },
    {
      "cell_type": "code",
      "source": [
        "with open(\"results/results_pix.txt\", \"w\") as f:\n",
        "    f.write(\"{:.5f}, {:.5f}, {:.5f}, {:.5f}\".format(accuracy, precision, recall, balanced_acc))"
      ],
      "metadata": {
        "id": "_k1-TAFoL3qv"
      },
      "execution_count": 18,
      "outputs": []
    },
    {
      "cell_type": "code",
      "execution_count": 19,
      "metadata": {
        "id": "ZuGUsSpgnTjc",
        "colab": {
          "base_uri": "https://localhost:8080/",
          "height": 371,
          "referenced_widgets": [
            "90794c751c72424b93e4788ccc1a00d4",
            "86f334ab85724330a2189191d3855cb2",
            "e679fd5a438a474db4c2e35cb5e8fcc7",
            "d4d76952cd1b412d9fadaf64a3f2e31b",
            "9552b935ae9049b7bd7385d9c887a52b",
            "9044102e6b754b67af0e1b76f3fa86d6",
            "97342b2703ac4d3c96e7f1a1250bf456",
            "1c55910ecc2b4b419a30c37ddd501c34"
          ]
        },
        "outputId": "1e4f4f7d-46b4-4efb-b947-042ac25146fe"
      },
      "outputs": [
        {
          "output_type": "display_data",
          "data": {
            "text/plain": [
              "<IPython.core.display.HTML object>"
            ],
            "text/html": [
              "Waiting for W&B process to finish... <strong style=\"color:green\">(success).</strong>"
            ]
          },
          "metadata": {}
        },
        {
          "output_type": "display_data",
          "data": {
            "text/plain": [
              "VBox(children=(Label(value='0.001 MB of 0.001 MB uploaded (0.000 MB deduped)\\r'), FloatProgress(value=1.0, max…"
            ],
            "application/vnd.jupyter.widget-view+json": {
              "version_major": 2,
              "version_minor": 0,
              "model_id": "90794c751c72424b93e4788ccc1a00d4"
            }
          },
          "metadata": {}
        },
        {
          "output_type": "display_data",
          "data": {
            "text/plain": [
              "<IPython.core.display.HTML object>"
            ],
            "text/html": [
              "<style>\n",
              "    table.wandb td:nth-child(1) { padding: 0 10px; text-align: left ; width: auto;} td:nth-child(2) {text-align: left ; width: 100%}\n",
              "    .wandb-row { display: flex; flex-direction: row; flex-wrap: wrap; justify-content: flex-start; width: 100% }\n",
              "    .wandb-col { display: flex; flex-direction: column; flex-basis: 100%; flex: 1; padding: 10px; }\n",
              "    </style>\n",
              "<div class=\"wandb-row\"><div class=\"wandb-col\"><h3>Run history:</h3><br/><table class=\"wandb\"><tr><td>accuracy</td><td>▁▂███▄█▆█▅███▅▂▇█▃▇█▁▄▅█▁▇▆█▁███▃▂██▄▆██</td></tr><tr><td>ensemble_accuracy</td><td>▁▃▃▃▃█████</td></tr><tr><td>ensemble_loss</td><td>█▂▂▂▁▁▁▁▁▁</td></tr><tr><td>loss</td><td>▃▃▁▁▁▂▁▁▁▂▁▁▁▃▅▂▁▂▁▁▂█▇▁▃▁▁▁▃▁▁▁▂▂▁▁▃▂▁▁</td></tr><tr><td>val_accuracy</td><td>▂▂█▇▃▂▇█▆▄▇▇▇▅▆▅▇▃▇▇▂▅▇▇▁▇▆▄▂██▇▂▂▅▄▄▇▁▃</td></tr><tr><td>val_loss</td><td>▂▂▁▁▁▂▁▁▁▂▁▁▁▁▁▁▁▁▁▁▁▂▁▁▁▁▁▁▂▁▁▁▂█▁▁▁▁▂▁</td></tr></table><br/></div><div class=\"wandb-col\"><h3>Run summary:</h3><br/><table class=\"wandb\"><tr><td>accuracy</td><td>0.94902</td></tr><tr><td>ensemble_accuracy</td><td>0.89796</td></tr><tr><td>ensemble_loss</td><td>0.31487</td></tr><tr><td>loss</td><td>0.15445</td></tr><tr><td>val_accuracy</td><td>0.6</td></tr><tr><td>val_loss</td><td>0.5005</td></tr></table><br/></div></div>"
            ]
          },
          "metadata": {}
        },
        {
          "output_type": "display_data",
          "data": {
            "text/plain": [
              "<IPython.core.display.HTML object>"
            ],
            "text/html": [
              " View run <strong style=\"color:#cdcd00\">Pix</strong> at: <a href='https://wandb.ai/marekpasson/test/runs/g8hf5upq' target=\"_blank\">https://wandb.ai/marekpasson/test/runs/g8hf5upq</a><br/>Synced 5 W&B file(s), 0 media file(s), 0 artifact file(s) and 0 other file(s)"
            ]
          },
          "metadata": {}
        },
        {
          "output_type": "display_data",
          "data": {
            "text/plain": [
              "<IPython.core.display.HTML object>"
            ],
            "text/html": [
              "Find logs at: <code>./wandb/run-20230515_161915-g8hf5upq/logs</code>"
            ]
          },
          "metadata": {}
        }
      ],
      "source": [
        "wandb.finish()"
      ]
    }
  ],
  "metadata": {
    "accelerator": "GPU",
    "colab": {
      "machine_shape": "hm",
      "provenance": []
    },
    "gpuClass": "standard",
    "kernelspec": {
      "display_name": "Python 3",
      "name": "python3"
    },
    "language_info": {
      "name": "python"
    },
    "widgets": {
      "application/vnd.jupyter.widget-state+json": {
        "90794c751c72424b93e4788ccc1a00d4": {
          "model_module": "@jupyter-widgets/controls",
          "model_name": "VBoxModel",
          "model_module_version": "1.5.0",
          "state": {
            "_dom_classes": [],
            "_model_module": "@jupyter-widgets/controls",
            "_model_module_version": "1.5.0",
            "_model_name": "VBoxModel",
            "_view_count": null,
            "_view_module": "@jupyter-widgets/controls",
            "_view_module_version": "1.5.0",
            "_view_name": "VBoxView",
            "box_style": "",
            "children": [
              "IPY_MODEL_86f334ab85724330a2189191d3855cb2",
              "IPY_MODEL_e679fd5a438a474db4c2e35cb5e8fcc7"
            ],
            "layout": "IPY_MODEL_d4d76952cd1b412d9fadaf64a3f2e31b"
          }
        },
        "86f334ab85724330a2189191d3855cb2": {
          "model_module": "@jupyter-widgets/controls",
          "model_name": "LabelModel",
          "model_module_version": "1.5.0",
          "state": {
            "_dom_classes": [],
            "_model_module": "@jupyter-widgets/controls",
            "_model_module_version": "1.5.0",
            "_model_name": "LabelModel",
            "_view_count": null,
            "_view_module": "@jupyter-widgets/controls",
            "_view_module_version": "1.5.0",
            "_view_name": "LabelView",
            "description": "",
            "description_tooltip": null,
            "layout": "IPY_MODEL_9552b935ae9049b7bd7385d9c887a52b",
            "placeholder": "​",
            "style": "IPY_MODEL_9044102e6b754b67af0e1b76f3fa86d6",
            "value": "0.014 MB of 0.014 MB uploaded (0.000 MB deduped)\r"
          }
        },
        "e679fd5a438a474db4c2e35cb5e8fcc7": {
          "model_module": "@jupyter-widgets/controls",
          "model_name": "FloatProgressModel",
          "model_module_version": "1.5.0",
          "state": {
            "_dom_classes": [],
            "_model_module": "@jupyter-widgets/controls",
            "_model_module_version": "1.5.0",
            "_model_name": "FloatProgressModel",
            "_view_count": null,
            "_view_module": "@jupyter-widgets/controls",
            "_view_module_version": "1.5.0",
            "_view_name": "ProgressView",
            "bar_style": "",
            "description": "",
            "description_tooltip": null,
            "layout": "IPY_MODEL_97342b2703ac4d3c96e7f1a1250bf456",
            "max": 1,
            "min": 0,
            "orientation": "horizontal",
            "style": "IPY_MODEL_1c55910ecc2b4b419a30c37ddd501c34",
            "value": 1
          }
        },
        "d4d76952cd1b412d9fadaf64a3f2e31b": {
          "model_module": "@jupyter-widgets/base",
          "model_name": "LayoutModel",
          "model_module_version": "1.2.0",
          "state": {
            "_model_module": "@jupyter-widgets/base",
            "_model_module_version": "1.2.0",
            "_model_name": "LayoutModel",
            "_view_count": null,
            "_view_module": "@jupyter-widgets/base",
            "_view_module_version": "1.2.0",
            "_view_name": "LayoutView",
            "align_content": null,
            "align_items": null,
            "align_self": null,
            "border": null,
            "bottom": null,
            "display": null,
            "flex": null,
            "flex_flow": null,
            "grid_area": null,
            "grid_auto_columns": null,
            "grid_auto_flow": null,
            "grid_auto_rows": null,
            "grid_column": null,
            "grid_gap": null,
            "grid_row": null,
            "grid_template_areas": null,
            "grid_template_columns": null,
            "grid_template_rows": null,
            "height": null,
            "justify_content": null,
            "justify_items": null,
            "left": null,
            "margin": null,
            "max_height": null,
            "max_width": null,
            "min_height": null,
            "min_width": null,
            "object_fit": null,
            "object_position": null,
            "order": null,
            "overflow": null,
            "overflow_x": null,
            "overflow_y": null,
            "padding": null,
            "right": null,
            "top": null,
            "visibility": null,
            "width": null
          }
        },
        "9552b935ae9049b7bd7385d9c887a52b": {
          "model_module": "@jupyter-widgets/base",
          "model_name": "LayoutModel",
          "model_module_version": "1.2.0",
          "state": {
            "_model_module": "@jupyter-widgets/base",
            "_model_module_version": "1.2.0",
            "_model_name": "LayoutModel",
            "_view_count": null,
            "_view_module": "@jupyter-widgets/base",
            "_view_module_version": "1.2.0",
            "_view_name": "LayoutView",
            "align_content": null,
            "align_items": null,
            "align_self": null,
            "border": null,
            "bottom": null,
            "display": null,
            "flex": null,
            "flex_flow": null,
            "grid_area": null,
            "grid_auto_columns": null,
            "grid_auto_flow": null,
            "grid_auto_rows": null,
            "grid_column": null,
            "grid_gap": null,
            "grid_row": null,
            "grid_template_areas": null,
            "grid_template_columns": null,
            "grid_template_rows": null,
            "height": null,
            "justify_content": null,
            "justify_items": null,
            "left": null,
            "margin": null,
            "max_height": null,
            "max_width": null,
            "min_height": null,
            "min_width": null,
            "object_fit": null,
            "object_position": null,
            "order": null,
            "overflow": null,
            "overflow_x": null,
            "overflow_y": null,
            "padding": null,
            "right": null,
            "top": null,
            "visibility": null,
            "width": null
          }
        },
        "9044102e6b754b67af0e1b76f3fa86d6": {
          "model_module": "@jupyter-widgets/controls",
          "model_name": "DescriptionStyleModel",
          "model_module_version": "1.5.0",
          "state": {
            "_model_module": "@jupyter-widgets/controls",
            "_model_module_version": "1.5.0",
            "_model_name": "DescriptionStyleModel",
            "_view_count": null,
            "_view_module": "@jupyter-widgets/base",
            "_view_module_version": "1.2.0",
            "_view_name": "StyleView",
            "description_width": ""
          }
        },
        "97342b2703ac4d3c96e7f1a1250bf456": {
          "model_module": "@jupyter-widgets/base",
          "model_name": "LayoutModel",
          "model_module_version": "1.2.0",
          "state": {
            "_model_module": "@jupyter-widgets/base",
            "_model_module_version": "1.2.0",
            "_model_name": "LayoutModel",
            "_view_count": null,
            "_view_module": "@jupyter-widgets/base",
            "_view_module_version": "1.2.0",
            "_view_name": "LayoutView",
            "align_content": null,
            "align_items": null,
            "align_self": null,
            "border": null,
            "bottom": null,
            "display": null,
            "flex": null,
            "flex_flow": null,
            "grid_area": null,
            "grid_auto_columns": null,
            "grid_auto_flow": null,
            "grid_auto_rows": null,
            "grid_column": null,
            "grid_gap": null,
            "grid_row": null,
            "grid_template_areas": null,
            "grid_template_columns": null,
            "grid_template_rows": null,
            "height": null,
            "justify_content": null,
            "justify_items": null,
            "left": null,
            "margin": null,
            "max_height": null,
            "max_width": null,
            "min_height": null,
            "min_width": null,
            "object_fit": null,
            "object_position": null,
            "order": null,
            "overflow": null,
            "overflow_x": null,
            "overflow_y": null,
            "padding": null,
            "right": null,
            "top": null,
            "visibility": null,
            "width": null
          }
        },
        "1c55910ecc2b4b419a30c37ddd501c34": {
          "model_module": "@jupyter-widgets/controls",
          "model_name": "ProgressStyleModel",
          "model_module_version": "1.5.0",
          "state": {
            "_model_module": "@jupyter-widgets/controls",
            "_model_module_version": "1.5.0",
            "_model_name": "ProgressStyleModel",
            "_view_count": null,
            "_view_module": "@jupyter-widgets/base",
            "_view_module_version": "1.2.0",
            "_view_name": "StyleView",
            "bar_color": null,
            "description_width": ""
          }
        }
      }
    }
  },
  "nbformat": 4,
  "nbformat_minor": 0
}