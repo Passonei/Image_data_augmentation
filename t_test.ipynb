{
  "cells": [
    {
      "cell_type": "code",
      "execution_count": 1,
      "metadata": {
        "colab": {
          "base_uri": "https://localhost:8080/"
        },
        "id": "yJ-2eEClJJkg",
        "outputId": "c69147c3-d0da-454e-a651-c559874a837b"
      },
      "outputs": [],
      "source": [
        "import numpy as np\n",
        "from scipy import stats\n",
        "import pandas as pd"
      ]
    },
    {
      "cell_type": "code",
      "execution_count": 2,
      "metadata": {},
      "outputs": [],
      "source": [
        "def load_result(file_name):\n",
        "    data = [np.loadtxt(\"results/results_\"+file_name+\".txt\", delimiter=\",\").mean(axis=0),\t\n",
        "            np.loadtxt(\"results/results_\"+file_name+\".txt\", delimiter=\",\").std(axis=0)]\n",
        "    return data\n",
        "\n",
        "base_data = load_result(\"base\")\n",
        "baseSoft_data = load_result(\"baseSoft\")\n",
        "paste_data = load_result(\"paste\")\n",
        "pasteSoft_data = load_result(\"pasteSoft\")\n",
        "pix_data = load_result(\"pix\")\n",
        "pixSoft_data = load_result(\"pixSoft\")"
      ]
    },
    {
      "cell_type": "code",
      "execution_count": 5,
      "metadata": {
        "colab": {
          "base_uri": "https://localhost:8080/",
          "height": 256
        },
        "id": "-tcc6GgCUquZ",
        "outputId": "b4344614-27c4-4054-b56c-c5f05882bda3"
      },
      "outputs": [
        {
          "name": "stdout",
          "output_type": "stream",
          "text": [
            "t>0, p<0.05\n"
          ]
        },
        {
          "data": {
            "text/html": [
              "<div>\n",
              "<style scoped>\n",
              "    .dataframe tbody tr th:only-of-type {\n",
              "        vertical-align: middle;\n",
              "    }\n",
              "\n",
              "    .dataframe tbody tr th {\n",
              "        vertical-align: top;\n",
              "    }\n",
              "\n",
              "    .dataframe thead th {\n",
              "        text-align: right;\n",
              "    }\n",
              "</style>\n",
              "<table border=\"1\" class=\"dataframe\">\n",
              "  <thead>\n",
              "    <tr style=\"text-align: right;\">\n",
              "      <th></th>\n",
              "      <th>base</th>\n",
              "      <th>baseSoft</th>\n",
              "      <th>paste</th>\n",
              "      <th>pasteSoft</th>\n",
              "      <th>pix</th>\n",
              "      <th>pixSoft</th>\n",
              "    </tr>\n",
              "  </thead>\n",
              "  <tbody>\n",
              "    <tr>\n",
              "      <th>base</th>\n",
              "      <td>0</td>\n",
              "      <td>0</td>\n",
              "      <td>0</td>\n",
              "      <td>0</td>\n",
              "      <td>0</td>\n",
              "      <td>0</td>\n",
              "    </tr>\n",
              "    <tr>\n",
              "      <th>baseSoft</th>\n",
              "      <td>1</td>\n",
              "      <td>0</td>\n",
              "      <td>1</td>\n",
              "      <td>0</td>\n",
              "      <td>0</td>\n",
              "      <td>0</td>\n",
              "    </tr>\n",
              "    <tr>\n",
              "      <th>paste</th>\n",
              "      <td>1</td>\n",
              "      <td>0</td>\n",
              "      <td>0</td>\n",
              "      <td>0</td>\n",
              "      <td>0</td>\n",
              "      <td>0</td>\n",
              "    </tr>\n",
              "    <tr>\n",
              "      <th>pasteSoft</th>\n",
              "      <td>1</td>\n",
              "      <td>1</td>\n",
              "      <td>1</td>\n",
              "      <td>0</td>\n",
              "      <td>1</td>\n",
              "      <td>0</td>\n",
              "    </tr>\n",
              "    <tr>\n",
              "      <th>pix</th>\n",
              "      <td>1</td>\n",
              "      <td>0</td>\n",
              "      <td>0</td>\n",
              "      <td>0</td>\n",
              "      <td>0</td>\n",
              "      <td>0</td>\n",
              "    </tr>\n",
              "    <tr>\n",
              "      <th>pixSoft</th>\n",
              "      <td>1</td>\n",
              "      <td>1</td>\n",
              "      <td>1</td>\n",
              "      <td>0</td>\n",
              "      <td>1</td>\n",
              "      <td>0</td>\n",
              "    </tr>\n",
              "  </tbody>\n",
              "</table>\n",
              "</div>"
            ],
            "text/plain": [
              "           base  baseSoft  paste  pasteSoft  pix  pixSoft\n",
              "base          0         0      0          0    0        0\n",
              "baseSoft      1         0      1          0    0        0\n",
              "paste         1         0      0          0    0        0\n",
              "pasteSoft     1         1      1          0    1        0\n",
              "pix           1         0      0          0    0        0\n",
              "pixSoft       1         1      1          0    1        0"
            ]
          },
          "execution_count": 5,
          "metadata": {},
          "output_type": "execute_result"
        }
      ],
      "source": [
        "# paired t-test for each with each for accuracy\n",
        "k=3 # 0 - accyracy, 1 - precision, 2 - recall, 3 - balanced accuracy \n",
        "\n",
        "model = [base_data, baseSoft_data, paste_data, pasteSoft_data, pix_data, pixSoft_data]\n",
        "model_names = ['base', 'baseSoft', 'paste', 'pasteSoft', 'pix', 'pixSoft']\n",
        "t_stat = pd.DataFrame(index=model_names, columns=model_names, dtype=float)\n",
        "p_values = pd.DataFrame(index=model_names, columns=model_names, dtype=float)\n",
        "for i in range(len(model_names)):\n",
        "    for j in range(len(model_names)):\n",
        "        t, p = stats.ttest_ind_from_stats(mean1=model[i][0][k], std1=model[i][1][k], nobs1=5, \n",
        "                                    mean2=model[j][0][k], std2=model[j][1][k], nobs2=5)\n",
        "        t_stat.loc[model_names[i], model_names[j]] = t\n",
        "        t_stat.loc[model_names[j], model_names[i]] = -t\n",
        "        p_values.loc[model_names[i], model_names[j]] = p\n",
        "        p_values.loc[model_names[j], model_names[i]] = p\n",
        "t_stat_binary = t_stat.applymap(lambda x: 1 if x > 0 else 0)\n",
        "p_values_binary = p_values.applymap(lambda x: 1 if x < 0.05 else 0)\n",
        "final_results = t_stat_binary * p_values_binary\n",
        "\n",
        "print(\"t>0, p<0.05\")\n",
        "final_results"
      ]
    },
    {
      "cell_type": "markdown",
      "metadata": {},
      "source": [
        "Student's t-test for balanced accuracy  \n",
        "At the 0.05 confidence level, the PixSoft method is statistically significantly better than all methods except PasteSoft. PasteSoft is statistically significantly better than all methods except PixSoft. BaseSoft is better than Paste. All methods are better than Base."
      ]
    }
  ],
  "metadata": {
    "accelerator": "GPU",
    "colab": {
      "machine_shape": "hm",
      "provenance": []
    },
    "gpuClass": "standard",
    "kernelspec": {
      "display_name": "Python 3.10.11 64-bit (microsoft store)",
      "language": "python",
      "name": "python3"
    },
    "language_info": {
      "codemirror_mode": {
        "name": "ipython",
        "version": 3
      },
      "file_extension": ".py",
      "mimetype": "text/x-python",
      "name": "python",
      "nbconvert_exporter": "python",
      "pygments_lexer": "ipython3",
      "version": "3.10.11"
    },
    "vscode": {
      "interpreter": {
        "hash": "7b1f2b33e866b0bf2409397e5f58ba9cdf170d3b7f64c8f359c79998e2f88ad4"
      }
    }
  },
  "nbformat": 4,
  "nbformat_minor": 0
}
