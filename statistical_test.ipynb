{
  "cells": [
    {
      "cell_type": "code",
      "execution_count": 1,
      "metadata": {
        "colab": {
          "base_uri": "https://localhost:8080/"
        },
        "id": "yJ-2eEClJJkg",
        "outputId": "c69147c3-d0da-454e-a651-c559874a837b"
      },
      "outputs": [],
      "source": [
        "import numpy as np\n",
        "import pandas as pd\n",
        "import scipy.stats as stats\n",
        "from statsmodels.stats.multicomp import pairwise_tukeyhsd\n"
      ]
    },
    {
      "cell_type": "code",
      "execution_count": 2,
      "metadata": {},
      "outputs": [],
      "source": [
        "def load_result(file_name):\n",
        "    data = np.loadtxt(\"results/results_\"+file_name+\".txt\", delimiter=\",\")\n",
        "    return data\n",
        "\n",
        "base_data = load_result(\"base\")\n",
        "baseSoft_data = load_result(\"baseSoft\")\n",
        "paste_data = load_result(\"paste\")\n",
        "pasteSoft_data = load_result(\"pasteSoft\")\n",
        "pix_data = load_result(\"pix\")\n",
        "pixSoft_data = load_result(\"pixSoft\")\n"
      ]
    },
    {
      "cell_type": "markdown",
      "metadata": {},
      "source": [
        "Paired t-test for each with each"
      ]
    },
    {
      "cell_type": "code",
      "execution_count": 16,
      "metadata": {
        "colab": {
          "base_uri": "https://localhost:8080/",
          "height": 256
        },
        "id": "-tcc6GgCUquZ",
        "outputId": "b4344614-27c4-4054-b56c-c5f05882bda3"
      },
      "outputs": [
        {
          "name": "stdout",
          "output_type": "stream",
          "text": [
            "t>0, p<0.05\n"
          ]
        },
        {
          "data": {
            "text/html": [
              "<div>\n",
              "<style scoped>\n",
              "    .dataframe tbody tr th:only-of-type {\n",
              "        vertical-align: middle;\n",
              "    }\n",
              "\n",
              "    .dataframe tbody tr th {\n",
              "        vertical-align: top;\n",
              "    }\n",
              "\n",
              "    .dataframe thead th {\n",
              "        text-align: right;\n",
              "    }\n",
              "</style>\n",
              "<table border=\"1\" class=\"dataframe\">\n",
              "  <thead>\n",
              "    <tr style=\"text-align: right;\">\n",
              "      <th></th>\n",
              "      <th>base</th>\n",
              "      <th>paste</th>\n",
              "      <th>pix</th>\n",
              "      <th>baseSoft</th>\n",
              "      <th>pasteSoft</th>\n",
              "      <th>pixSoft</th>\n",
              "    </tr>\n",
              "  </thead>\n",
              "  <tbody>\n",
              "    <tr>\n",
              "      <th>base</th>\n",
              "      <td>0</td>\n",
              "      <td>0</td>\n",
              "      <td>0</td>\n",
              "      <td>0</td>\n",
              "      <td>0</td>\n",
              "      <td>0</td>\n",
              "    </tr>\n",
              "    <tr>\n",
              "      <th>paste</th>\n",
              "      <td>1</td>\n",
              "      <td>0</td>\n",
              "      <td>0</td>\n",
              "      <td>0</td>\n",
              "      <td>0</td>\n",
              "      <td>0</td>\n",
              "    </tr>\n",
              "    <tr>\n",
              "      <th>pix</th>\n",
              "      <td>1</td>\n",
              "      <td>0</td>\n",
              "      <td>0</td>\n",
              "      <td>0</td>\n",
              "      <td>0</td>\n",
              "      <td>0</td>\n",
              "    </tr>\n",
              "    <tr>\n",
              "      <th>baseSoft</th>\n",
              "      <td>1</td>\n",
              "      <td>1</td>\n",
              "      <td>0</td>\n",
              "      <td>0</td>\n",
              "      <td>0</td>\n",
              "      <td>0</td>\n",
              "    </tr>\n",
              "    <tr>\n",
              "      <th>pasteSoft</th>\n",
              "      <td>1</td>\n",
              "      <td>1</td>\n",
              "      <td>1</td>\n",
              "      <td>1</td>\n",
              "      <td>0</td>\n",
              "      <td>0</td>\n",
              "    </tr>\n",
              "    <tr>\n",
              "      <th>pixSoft</th>\n",
              "      <td>1</td>\n",
              "      <td>1</td>\n",
              "      <td>1</td>\n",
              "      <td>1</td>\n",
              "      <td>1</td>\n",
              "      <td>0</td>\n",
              "    </tr>\n",
              "  </tbody>\n",
              "</table>\n",
              "</div>"
            ],
            "text/plain": [
              "           base  paste  pix  baseSoft  pasteSoft  pixSoft\n",
              "base          0      0    0         0          0        0\n",
              "paste         1      0    0         0          0        0\n",
              "pix           1      0    0         0          0        0\n",
              "baseSoft      1      1    0         0          0        0\n",
              "pasteSoft     1      1    1         1          0        0\n",
              "pixSoft       1      1    1         1          1        0"
            ]
          },
          "execution_count": 16,
          "metadata": {},
          "output_type": "execute_result"
        }
      ],
      "source": [
        "k=3 # 0 - accyracy, 1 - precision, 2 - recall, 3 - balanced accuracy \n",
        "\n",
        "model = [base_data, paste_data, pix_data, baseSoft_data, pasteSoft_data, pixSoft_data]\n",
        "model_names = ['base', 'paste', 'pix', 'baseSoft', 'pasteSoft', 'pixSoft']\n",
        "t_stat = pd.DataFrame(index=model_names, columns=model_names, dtype=float)\n",
        "p_values = pd.DataFrame(index=model_names, columns=model_names, dtype=float)\n",
        "for i in range(len(model_names)):\n",
        "    for j in range(len(model_names)):\n",
        "        t, p = stats.ttest_ind_from_stats(mean1=model[i].mean(axis=0)[k], std1=model[i].std(axis=0)[k], nobs1=len(model[i]), \n",
        "                                    mean2=model[j].mean(axis=0)[k], std2=model[j].std(axis=0)[k], nobs2=len(model[j]))\n",
        "        t_stat.loc[model_names[i], model_names[j]] = t\n",
        "        t_stat.loc[model_names[j], model_names[i]] = -t\n",
        "        p_values.loc[model_names[i], model_names[j]] = p\n",
        "        p_values.loc[model_names[j], model_names[i]] = p\n",
        "t_stat_binary = t_stat.applymap(lambda x: 1 if x > 0 else 0)\n",
        "p_values_binary = p_values.applymap(lambda x: 1 if x < 0.05 else 0)\n",
        "final_results = t_stat_binary * p_values_binary\n",
        "\n",
        "print(\"t>0, p<0.05\")\n",
        "final_results"
      ]
    },
    {
      "cell_type": "markdown",
      "metadata": {},
      "source": [
        "Friedman test"
      ]
    },
    {
      "cell_type": "code",
      "execution_count": 17,
      "metadata": {},
      "outputs": [
        {
          "name": "stdout",
          "output_type": "stream",
          "text": [
            "Test statistics: 31.85185185185183\n",
            "Value p: 6.356361774331756e-06\n"
          ]
        }
      ],
      "source": [
        "from scipy.stats import friedmanchisquare\n",
        "\n",
        "statistic, p_value = friedmanchisquare(base_data[:,k], paste_data[:,k], \n",
        "                                pix_data[:,k], baseSoft_data[:,k], \n",
        "                                pasteSoft_data[:,k], pixSoft_data[:,k])\n",
        "\n",
        "print(\"Test statistics:\", statistic)\n",
        "print(\"Value p:\", p_value)"
      ]
    },
    {
      "cell_type": "markdown",
      "metadata": {},
      "source": [
        "There is a significant difference between at least one of the pairs of groups"
      ]
    },
    {
      "cell_type": "markdown",
      "metadata": {},
      "source": [
        "Tukey test"
      ]
    },
    {
      "cell_type": "code",
      "execution_count": 18,
      "metadata": {},
      "outputs": [
        {
          "name": "stdout",
          "output_type": "stream",
          "text": [
            "   Multiple Comparison of Means - Tukey HSD, FWER=0.05    \n",
            "==========================================================\n",
            "  group1    group2  meandiff p-adj   lower   upper  reject\n",
            "----------------------------------------------------------\n",
            "     base  baseSoft     0.27    0.0  0.2235  0.3165   True\n",
            "     base     paste   0.2317    0.0  0.1852  0.2782   True\n",
            "     base pasteSoft   0.3423    0.0  0.2958  0.3888   True\n",
            "     base       pix   0.2596    0.0  0.2131  0.3061   True\n",
            "     base   pixSoft   0.3961    0.0  0.3496  0.4426   True\n",
            " baseSoft     paste  -0.0383 0.1569 -0.0848  0.0082  False\n",
            " baseSoft pasteSoft   0.0723 0.0005  0.0258  0.1188   True\n",
            " baseSoft       pix  -0.0105 0.9834 -0.0569   0.036  False\n",
            " baseSoft   pixSoft   0.1261    0.0  0.0796  0.1726   True\n",
            "    paste pasteSoft   0.1106    0.0  0.0641  0.1571   True\n",
            "    paste       pix   0.0279  0.476 -0.0186  0.0744  False\n",
            "    paste   pixSoft   0.1644    0.0  0.1179  0.2109   True\n",
            "pasteSoft       pix  -0.0827 0.0001 -0.1292 -0.0363   True\n",
            "pasteSoft   pixSoft   0.0538 0.0155  0.0073  0.1003   True\n",
            "      pix   pixSoft   0.1365    0.0  0.0901   0.183   True\n",
            "----------------------------------------------------------\n"
          ]
        }
      ],
      "source": [
        "data = (list(base_data[:,k]) + list(paste_data[:,k]) + \n",
        "        list(pix_data[:,k]) + list(baseSoft_data[:,k]) + \n",
        "        list(pasteSoft_data[:,k]) + list(pixSoft_data[:,k]))\n",
        "\n",
        "labels = (['base'] * len(base_data) + ['paste'] * len(paste_data) \n",
        "        + ['pix'] * len(pix_data) + ['baseSoft'] * len(baseSoft_data) \n",
        "        + ['pasteSoft'] * len(pasteSoft_data) + ['pixSoft'] * len(pixSoft_data))\n",
        "tukey_results = pairwise_tukeyhsd(data, labels, 0.05)\n",
        "print(tukey_results)"
      ]
    },
    {
      "cell_type": "markdown",
      "metadata": {},
      "source": [
        "One difference from the t-student test.  \n",
        "No reason to reject hypothesis H0 of no difference between Base + Soft paste."
      ]
    }
  ],
  "metadata": {
    "accelerator": "GPU",
    "colab": {
      "machine_shape": "hm",
      "provenance": []
    },
    "gpuClass": "standard",
    "kernelspec": {
      "display_name": "Python 3.10.2 64-bit",
      "language": "python",
      "name": "python3"
    },
    "language_info": {
      "codemirror_mode": {
        "name": "ipython",
        "version": 3
      },
      "file_extension": ".py",
      "mimetype": "text/x-python",
      "name": "python",
      "nbconvert_exporter": "python",
      "pygments_lexer": "ipython3",
      "version": "3.10.2"
    },
    "vscode": {
      "interpreter": {
        "hash": "fb4569285eef3a3450cb62085a5b1e0da4bce0af555edc33dcf29baf3acc1368"
      }
    }
  },
  "nbformat": 4,
  "nbformat_minor": 0
}
