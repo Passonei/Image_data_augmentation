{
  "cells": [
    {
      "cell_type": "code",
      "execution_count": 13,
      "metadata": {
        "colab": {
          "base_uri": "https://localhost:8080/"
        },
        "id": "yJ-2eEClJJkg",
        "outputId": "c69147c3-d0da-454e-a651-c559874a837b"
      },
      "outputs": [],
      "source": [
        "import numpy as np\n",
        "import pandas as pd\n",
        "import scipy.stats as stats\n",
        "import matplotlib.pyplot as plt\n",
        "from statsmodels.stats.multicomp import pairwise_tukeyhsd\n",
        "import scikit_posthocs as sp"
      ]
    },
    {
      "cell_type": "code",
      "execution_count": 14,
      "metadata": {},
      "outputs": [],
      "source": [
        "def load_result(file_name):\n",
        "    data = np.loadtxt(\"results/results_\"+file_name+\".txt\", delimiter=\",\")\n",
        "    return data\n",
        "\n",
        "base_data = load_result(\"base\")\n",
        "baseSoft_data = load_result(\"baseSoft\")\n",
        "paste_data = load_result(\"paste\")\n",
        "pasteSoft_data = load_result(\"pasteSoft\")\n",
        "pix_data = load_result(\"pix\")\n",
        "pixSoft_data = load_result(\"pixSoft\")\n"
      ]
    },
    {
      "cell_type": "markdown",
      "metadata": {},
      "source": [
        "Paired t-test for each with each"
      ]
    },
    {
      "cell_type": "code",
      "execution_count": 15,
      "metadata": {
        "colab": {
          "base_uri": "https://localhost:8080/",
          "height": 256
        },
        "id": "-tcc6GgCUquZ",
        "outputId": "b4344614-27c4-4054-b56c-c5f05882bda3"
      },
      "outputs": [
        {
          "name": "stdout",
          "output_type": "stream",
          "text": [
            "t>0, p<0.05\n"
          ]
        },
        {
          "data": {
            "text/html": [
              "<div>\n",
              "<style scoped>\n",
              "    .dataframe tbody tr th:only-of-type {\n",
              "        vertical-align: middle;\n",
              "    }\n",
              "\n",
              "    .dataframe tbody tr th {\n",
              "        vertical-align: top;\n",
              "    }\n",
              "\n",
              "    .dataframe thead th {\n",
              "        text-align: right;\n",
              "    }\n",
              "</style>\n",
              "<table border=\"1\" class=\"dataframe\">\n",
              "  <thead>\n",
              "    <tr style=\"text-align: right;\">\n",
              "      <th></th>\n",
              "      <th>Base</th>\n",
              "      <th>Copy-Paste</th>\n",
              "      <th>Pix2pix</th>\n",
              "      <th>Base + Soft</th>\n",
              "      <th>Copy-Paste + Soft</th>\n",
              "      <th>Pix2pix + Soft</th>\n",
              "    </tr>\n",
              "  </thead>\n",
              "  <tbody>\n",
              "    <tr>\n",
              "      <th>Base</th>\n",
              "      <td>0</td>\n",
              "      <td>0</td>\n",
              "      <td>0</td>\n",
              "      <td>0</td>\n",
              "      <td>0</td>\n",
              "      <td>0</td>\n",
              "    </tr>\n",
              "    <tr>\n",
              "      <th>Copy-Paste</th>\n",
              "      <td>1</td>\n",
              "      <td>0</td>\n",
              "      <td>0</td>\n",
              "      <td>0</td>\n",
              "      <td>0</td>\n",
              "      <td>0</td>\n",
              "    </tr>\n",
              "    <tr>\n",
              "      <th>Pix2pix</th>\n",
              "      <td>1</td>\n",
              "      <td>1</td>\n",
              "      <td>0</td>\n",
              "      <td>0</td>\n",
              "      <td>0</td>\n",
              "      <td>0</td>\n",
              "    </tr>\n",
              "    <tr>\n",
              "      <th>Base + Soft</th>\n",
              "      <td>1</td>\n",
              "      <td>1</td>\n",
              "      <td>0</td>\n",
              "      <td>0</td>\n",
              "      <td>0</td>\n",
              "      <td>0</td>\n",
              "    </tr>\n",
              "    <tr>\n",
              "      <th>Copy-Paste + Soft</th>\n",
              "      <td>1</td>\n",
              "      <td>1</td>\n",
              "      <td>1</td>\n",
              "      <td>1</td>\n",
              "      <td>0</td>\n",
              "      <td>0</td>\n",
              "    </tr>\n",
              "    <tr>\n",
              "      <th>Pix2pix + Soft</th>\n",
              "      <td>1</td>\n",
              "      <td>1</td>\n",
              "      <td>1</td>\n",
              "      <td>1</td>\n",
              "      <td>1</td>\n",
              "      <td>0</td>\n",
              "    </tr>\n",
              "  </tbody>\n",
              "</table>\n",
              "</div>"
            ],
            "text/plain": [
              "                   Base  Copy-Paste  Pix2pix  Base + Soft  Copy-Paste + Soft  \\\n",
              "Base                  0           0        0            0                  0   \n",
              "Copy-Paste            1           0        0            0                  0   \n",
              "Pix2pix               1           1        0            0                  0   \n",
              "Base + Soft           1           1        0            0                  0   \n",
              "Copy-Paste + Soft     1           1        1            1                  0   \n",
              "Pix2pix + Soft        1           1        1            1                  1   \n",
              "\n",
              "                   Pix2pix + Soft  \n",
              "Base                            0  \n",
              "Copy-Paste                      0  \n",
              "Pix2pix                         0  \n",
              "Base + Soft                     0  \n",
              "Copy-Paste + Soft               0  \n",
              "Pix2pix + Soft                  0  "
            ]
          },
          "execution_count": 15,
          "metadata": {},
          "output_type": "execute_result"
        }
      ],
      "source": [
        "k=3 # 0 - accyracy, 1 - precision, 2 - recall, 3 - balanced accuracy \n",
        "\n",
        "model = [base_data, paste_data, pix_data, baseSoft_data, pasteSoft_data, pixSoft_data]\n",
        "model_names = ['Base', 'Copy-Paste', 'Pix2pix', 'Base + Soft', 'Copy-Paste + Soft', 'Pix2pix + Soft']\n",
        "t_stat = pd.DataFrame(index=model_names, columns=model_names, dtype=float)\n",
        "p_values = pd.DataFrame(index=model_names, columns=model_names, dtype=float)\n",
        "for i in range(len(model_names)):\n",
        "    for j in range(len(model_names)):\n",
        "        t, p = stats.ttest_ind_from_stats(mean1=model[i].mean(axis=0)[k], std1=model[i].std(axis=0)[k], nobs1=len(model[i]), \n",
        "                                    mean2=model[j].mean(axis=0)[k], std2=model[j].std(axis=0)[k], nobs2=len(model[j]))\n",
        "        t_stat.loc[model_names[i], model_names[j]] = t\n",
        "        t_stat.loc[model_names[j], model_names[i]] = -t\n",
        "        p_values.loc[model_names[i], model_names[j]] = p\n",
        "        p_values.loc[model_names[j], model_names[i]] = p\n",
        "t_stat_binary = t_stat.applymap(lambda x: 1 if x > 0 else 0)\n",
        "p_values_binary = p_values.applymap(lambda x: 1 if x < 0.05 else 0)\n",
        "final_results = t_stat_binary * p_values_binary\n",
        "\n",
        "print(\"t>0, p<0.05\")\n",
        "final_results"
      ]
    },
    {
      "cell_type": "code",
      "execution_count": 16,
      "metadata": {},
      "outputs": [
        {
          "data": {
            "image/png": "[encoded data removed]",
            "text/plain": [
              "<Figure size 720x432 with 1 Axes>"
            ]
          },
          "metadata": {
            "needs_background": "light"
          },
          "output_type": "display_data"
        }
      ],
      "source": [
        "data = np.array([base_data[:,k], paste_data[:,k], pix_data[:,k], baseSoft_data[:,k], pasteSoft_data[:,k], pixSoft_data[:,k]])\n",
        "\n",
        "fig, ax = plt.subplots(figsize=(10, 6))\n",
        "ax.boxplot(data.T, labels=model_names)\n",
        "ax.set_title(\"Boxplots for balanced accuracy\")\n",
        "ax.set_ylabel(\"Balanced accuracy\")\n",
        "plt.show()"
      ]
    },
    {
      "cell_type": "markdown",
      "metadata": {},
      "source": [
        "Friedman test"
      ]
    },
    {
      "cell_type": "code",
      "execution_count": 17,
      "metadata": {},
      "outputs": [
        {
          "name": "stdout",
          "output_type": "stream",
          "text": [
            "Test statistics: 45.576368876080686\n",
            "Value p: 1.1076611612325998e-08\n"
          ]
        }
      ],
      "source": [
        "from scipy.stats import friedmanchisquare\n",
        "\n",
        "statistic, p_value = friedmanchisquare(base_data[:,k], paste_data[:,k], \n",
        "                                pix_data[:,k], baseSoft_data[:,k], \n",
        "                                pasteSoft_data[:,k], pixSoft_data[:,k])\n",
        "\n",
        "print(\"Test statistics:\", statistic)\n",
        "print(\"Value p:\", p_value)"
      ]
    },
    {
      "cell_type": "markdown",
      "metadata": {},
      "source": [
        "There is a significant difference between at least one of the pairs of groups"
      ]
    },
    {
      "cell_type": "markdown",
      "metadata": {},
      "source": [
        "Test Post hoc"
      ]
    },
    {
      "cell_type": "code",
      "execution_count": 18,
      "metadata": {},
      "outputs": [
        {
          "data": {
            "text/html": [
              "<div>\n",
              "<style scoped>\n",
              "    .dataframe tbody tr th:only-of-type {\n",
              "        vertical-align: middle;\n",
              "    }\n",
              "\n",
              "    .dataframe tbody tr th {\n",
              "        vertical-align: top;\n",
              "    }\n",
              "\n",
              "    .dataframe thead th {\n",
              "        text-align: right;\n",
              "    }\n",
              "</style>\n",
              "<table border=\"1\" class=\"dataframe\">\n",
              "  <thead>\n",
              "    <tr style=\"text-align: right;\">\n",
              "      <th></th>\n",
              "      <th>1</th>\n",
              "      <th>2</th>\n",
              "      <th>3</th>\n",
              "      <th>4</th>\n",
              "      <th>5</th>\n",
              "      <th>6</th>\n",
              "    </tr>\n",
              "  </thead>\n",
              "  <tbody>\n",
              "    <tr>\n",
              "      <th>1</th>\n",
              "      <td>NaN</td>\n",
              "      <td>NaN</td>\n",
              "      <td>0.049473</td>\n",
              "      <td>0.004489</td>\n",
              "      <td>0.000007</td>\n",
              "      <td>3.821608e-09</td>\n",
              "    </tr>\n",
              "    <tr>\n",
              "      <th>2</th>\n",
              "      <td>NaN</td>\n",
              "      <td>NaN</td>\n",
              "      <td>NaN</td>\n",
              "      <td>NaN</td>\n",
              "      <td>0.007580</td>\n",
              "      <td>3.994023e-05</td>\n",
              "    </tr>\n",
              "    <tr>\n",
              "      <th>3</th>\n",
              "      <td>4.947284e-02</td>\n",
              "      <td>NaN</td>\n",
              "      <td>NaN</td>\n",
              "      <td>NaN</td>\n",
              "      <td>NaN</td>\n",
              "      <td>4.026281e-03</td>\n",
              "    </tr>\n",
              "    <tr>\n",
              "      <th>4</th>\n",
              "      <td>4.489071e-03</td>\n",
              "      <td>NaN</td>\n",
              "      <td>NaN</td>\n",
              "      <td>NaN</td>\n",
              "      <td>NaN</td>\n",
              "      <td>4.754406e-02</td>\n",
              "    </tr>\n",
              "    <tr>\n",
              "      <th>5</th>\n",
              "      <td>7.017619e-06</td>\n",
              "      <td>0.00758</td>\n",
              "      <td>NaN</td>\n",
              "      <td>NaN</td>\n",
              "      <td>NaN</td>\n",
              "      <td>NaN</td>\n",
              "    </tr>\n",
              "    <tr>\n",
              "      <th>6</th>\n",
              "      <td>3.821608e-09</td>\n",
              "      <td>0.00004</td>\n",
              "      <td>0.004026</td>\n",
              "      <td>0.047544</td>\n",
              "      <td>NaN</td>\n",
              "      <td>NaN</td>\n",
              "    </tr>\n",
              "  </tbody>\n",
              "</table>\n",
              "</div>"
            ],
            "text/plain": [
              "              1        2         3         4         5             6\n",
              "1           NaN      NaN  0.049473  0.004489  0.000007  3.821608e-09\n",
              "2           NaN      NaN       NaN       NaN  0.007580  3.994023e-05\n",
              "3  4.947284e-02      NaN       NaN       NaN       NaN  4.026281e-03\n",
              "4  4.489071e-03      NaN       NaN       NaN       NaN  4.754406e-02\n",
              "5  7.017619e-06  0.00758       NaN       NaN       NaN           NaN\n",
              "6  3.821608e-09  0.00004  0.004026  0.047544       NaN           NaN"
            ]
          },
          "execution_count": 18,
          "metadata": {},
          "output_type": "execute_result"
        }
      ],
      "source": [
        "dunn = sp.posthoc_dunn(np.array(data), p_adjust = 'holm')\n",
        "dunn[dunn < 0.05]"
      ]
    }
  ],
  "metadata": {
    "accelerator": "GPU",
    "colab": {
      "machine_shape": "hm",
      "provenance": []
    },
    "gpuClass": "standard",
    "kernelspec": {
      "display_name": "Python 3.10.2 64-bit",
      "language": "python",
      "name": "python3"
    },
    "language_info": {
      "codemirror_mode": {
        "name": "ipython",
        "version": 3
      },
      "file_extension": ".py",
      "mimetype": "text/x-python",
      "name": "python",
      "nbconvert_exporter": "python",
      "pygments_lexer": "ipython3",
      "version": "3.10.2"
    },
    "vscode": {
      "interpreter": {
        "hash": "fb4569285eef3a3450cb62085a5b1e0da4bce0af555edc33dcf29baf3acc1368"
      }
    }
  },
  "nbformat": 4,
  "nbformat_minor": 0
}
